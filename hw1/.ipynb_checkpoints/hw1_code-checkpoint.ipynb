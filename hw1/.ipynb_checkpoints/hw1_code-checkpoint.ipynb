{
 "cells": [
  {
   "cell_type": "markdown",
   "metadata": {},
   "source": [
    "# Homework 1 Code"
   ]
  },
  {
   "cell_type": "code",
   "execution_count": 1,
   "metadata": {
    "colab": {},
    "colab_type": "code",
    "id": "nvle6XQTWWrZ"
   },
   "outputs": [],
   "source": [
    "# Add import statements here\n",
    "import numpy as np\n",
    "import matplotlib.pyplot as plt"
   ]
  },
  {
   "cell_type": "markdown",
   "metadata": {
    "colab_type": "text",
    "id": "becadmSx8_Aw"
   },
   "source": [
    "## Perceptron Learning\n",
    "\n",
    "The `perceptron_learn` function runs the Perceptron Learning Algorithm on input data.\n",
    "\n",
    "Inputs: \n",
    "* `data_in` is a matrix with each row representing an $(x, y)$ pair; the $x$ vector is augmented with a leading 1, the label, $y$, is in the last column. \n",
    "Outputs:\n",
    "The function outputs a tuple, `(w, iterations)`, where: \n",
    "* `w` is the learned weight vector; it should linearly separate the data if it is linearly separable.\n",
    "* `iterations` is the number of iterations the algorithm ran for. "
   ]
  },
  {
   "cell_type": "code",
   "execution_count": 2,
   "metadata": {
    "colab": {},
    "colab_type": "code",
    "id": "RSIE8o_7-nMI"
   },
   "outputs": [],
   "source": [
    "def perceptron_learn(data_in):\n",
    "\n",
    "  # Your code here, assign the proper values to w and iterations: \n",
    "    N = data_in.shape[1]\n",
    "    d = data_in.shape[0] - 2 \n",
    "    w = np.zeros(d+1)\n",
    "    y_true = data_in[d+1, :]\n",
    "    y_pred = np.zeros(N)\n",
    "    iterations = 0\n",
    "\n",
    "    while (y_true == y_pred).all() == False:\n",
    "        iterations += 1\n",
    "        misclassified = (y_true != y_pred)\n",
    "        indices = [i for i,val in enumerate(misclassified) if val]  # a list of misclassified indices\n",
    "        index = np.random.choice(indices)  # randomly pick a misclassified index \n",
    "        x = data_in[0:d+1, index:index+1].flatten()    # get x[index]\n",
    "        w += np.dot(y_true[index], x)  # update the weight\n",
    "        for i in range(0, N):\n",
    "            y_pred[i] = np.sign(np.dot(np.reshape(w, (1,d+1)), data_in[0:d+1, i:i+1]))  # update y_pred\n",
    "\n",
    "    return w, iterations"
   ]
  },
  {
   "cell_type": "markdown",
   "metadata": {
    "colab_type": "text",
    "id": "49dBCflt_YHw"
   },
   "source": [
    "# Perceptron Experiment\n",
    "Code for running the perceptron experiment in HW1. \n",
    "\n",
    "Inputs: \n",
    "* `N` is the number of training examples\n",
    "* `d` is the dimensionality of each example (before adding the 1)\n",
    "* `num_samples` is the number of times to repeat the experiment\n",
    "\n",
    "Outputs:\n",
    "* `num_iters` is the number of iterations the Perceptron Learning Algorithm takes for each sample\n",
    "* `bound_minus_ni` is the difference between the theoretical bound and the actual number of iterations\n",
    "\n",
    "Both outputs should be `num_samples` long."
   ]
  },
  {
   "cell_type": "code",
   "execution_count": 3,
   "metadata": {
    "colab": {},
    "colab_type": "code",
    "id": "Jk1iKwL7AirD"
   },
   "outputs": [],
   "source": [
    "def perceptron_experiment(N, d, num_samples):\n",
    "\n",
    "  # Your code here, assign the values to num_ters and bounds_minus_ni:\n",
    "    row = d+1\n",
    "    num_iters, bounds_minus_ni = np.zeros(num_samples), np.zeros(num_samples)\n",
    "    \n",
    "    for experiment_count in range(0, num_samples):\n",
    "        w_star = np.zeros(row)  # the true function parameter\n",
    "        for i in range(0, row):\n",
    "            w_star[i] = np.random.uniform()  # generate a random number from (0,1)\n",
    "        w_star[0] = 0   \n",
    "        \n",
    "        # initialize training dataset\n",
    "        training_data = np.zeros((row+1,N))\n",
    "        for i in range(0, N):\n",
    "            training_data[0][i] = 1  # initialize all x_0's to be 1\n",
    "        for i in range(1, row):\n",
    "            for j in range(0, N):\n",
    "                training_data[i][j] = np.random.uniform(-1,1)  # generate random training samples\n",
    "        \n",
    "        for i in range(0, N):\n",
    "            w_x = np.dot(np.reshape(w_star, (1,row)), training_data[0:row, i:i+1])\n",
    "            training_data[row][i] = np.sign(w_x)  # compute y_i\n",
    "            \n",
    "        # perform PLA\n",
    "        w, iterations = perceptron_learn(training_data)\n",
    "        num_iters[experiment_count] = iterations\n",
    "        \n",
    "        # compute bound_minus_ni\n",
    "        x_norms = np.zeros(N)\n",
    "        p_vec = np.zeros(N)\n",
    "        for i in range(0, N):\n",
    "            x_norms[i] = np.linalg.norm(training_data[0:row, i:i+1])\n",
    "            p_vec[i] = training_data[row][i]*np.dot(np.reshape(w_star, (1,row)), training_data[0:row, i:i+1])[0][0]\n",
    "        R = np.amax(x_norms)\n",
    "        p = np.amin(p_vec)\n",
    "        w_star_norm = np.linalg.norm(w_star)\n",
    "        theoretical_bound = (R**2)*(w_star_norm**2)/(p**2)\n",
    "        bounds_minus_ni[experiment_count] = theoretical_bound - iterations\n",
    "    \n",
    "    return num_iters, bounds_minus_ni"
   ]
  },
  {
   "cell_type": "markdown",
   "metadata": {
    "colab_type": "text",
    "id": "w3wzw3SvB5mE"
   },
   "source": [
    "## Run and Plot\n",
    "\n",
    "Run the code below"
   ]
  },
  {
   "cell_type": "code",
   "execution_count": 4,
   "metadata": {
    "colab": {},
    "colab_type": "code",
    "id": "4gXvSa5MVKfg"
   },
   "outputs": [],
   "source": [
    "N = 100\n",
    "d = 10\n",
    "num_samples = 10\n",
    "\n",
    "num_iters, bounds_minus_ni = perceptron_experiment(N, d, num_samples)\n"
   ]
  },
  {
   "cell_type": "code",
   "execution_count": 5,
   "metadata": {},
   "outputs": [
    {
     "data": {
      "image/png": "[encoded data removed]",
      "text/plain": [
       "<Figure size 432x288 with 1 Axes>"
      ]
     },
     "metadata": {
      "needs_background": "light"
     },
     "output_type": "display_data"
    },
    {
     "data": {
      "image/png": "[encoded data removed]",
      "text/plain": [
       "<Figure size 720x1080 with 1 Axes>"
      ]
     },
     "metadata": {
      "needs_background": "light"
     },
     "output_type": "display_data"
    },
    {
     "data": {
      "text/plain": [
       "<Figure size 720x1080 with 0 Axes>"
      ]
     },
     "metadata": {},
     "output_type": "display_data"
    }
   ],
   "source": [
    "plt.subplot(2,1,1)\n",
    "plt.hist(num_iters)\n",
    "plt.title('Histogram of the number of iterations')\n",
    "plt.xlabel('Number of iterations') \n",
    "plt.ylabel('frequency')\n",
    "fig = plt.figure()\n",
    "fig.set_figheight(15)\n",
    "fig.set_figwidth(15)\n",
    "\n",
    "plt.subplot(2,1,2)\n",
    "plt.hist(np.log(bounds_minus_ni))\n",
    "plt.title('Histogram of the log differences between the theoretical bound and actual number of iterations')\n",
    "plt.xlabel(\"log(theoretical bound - actual number of iterations)\")\n",
    "plt.ylabel(\"frequency\")\n",
    "plt.figure(figsize = (10,15))\n",
    "\n",
    "plt.tight_layout()\n",
    "plt.show()"
   ]
  }
 ],
 "metadata": {
  "colab": {
   "name": "hw1_code.ipynb",
   "provenance": []
  },
  "kernelspec": {
   "display_name": "Python 3",
   "language": "python",
   "name": "python3"
  },
  "language_info": {
   "codemirror_mode": {
    "name": "ipython",
    "version": 3
   },
   "file_extension": ".py",
   "mimetype": "text/x-python",
   "name": "python",
   "nbconvert_exporter": "python",
   "pygments_lexer": "ipython3",
   "version": "3.8.3"
  }
 },
 "nbformat": 4,
 "nbformat_minor": 4
}
