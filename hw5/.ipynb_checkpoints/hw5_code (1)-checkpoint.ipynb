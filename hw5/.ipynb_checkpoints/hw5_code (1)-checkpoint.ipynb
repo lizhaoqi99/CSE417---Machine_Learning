{
  "nbformat": 4,
  "nbformat_minor": 0,
  "metadata": {
    "colab": {
      "name": "hw5_code.ipynb",
      "provenance": [],
      "collapsed_sections": [],
      "toc_visible": true
    },
    "kernelspec": {
      "display_name": "Python 3",
      "name": "python3"
    }
  },
  "cells": [
    {
      "cell_type": "markdown",
      "metadata": {
        "id": "isUVtIh32QpY"
      },
      "source": [
        "# Homework 5 Code"
      ]
    },
    {
      "cell_type": "code",
      "metadata": {
        "id": "wVUYkUOixhB9"
      },
      "source": [
        "# Add import statements here\n",
        "from sklearn.tree import DecisionTreeClassifier\n",
        "from scipy.stats import mode\n",
        "import pandas as pd\n",
        "import numpy as np\n",
        "import matplotlib.pyplot as plt\n",
        "import tensorflow as tf\n",
        "\n",
        "from tensorflow.keras.datasets import mnist\n",
        "from tensorflow.keras.models import Sequential\n",
        "from tensorflow.keras.layers import Dense, Dropout\n",
        "from keras.layers.core import Flatten"
      ],
      "execution_count": 50,
      "outputs": []
    },
    {
      "cell_type": "code",
      "metadata": {
        "id": "FidREiWX2eOL"
      },
      "source": [
        "# # To access files in your Google Drive, run this block and follow the instructions\n",
        "# from google.colab import drive\n",
        "# drive.mount('/content/gdrive')"
      ],
      "execution_count": 51,
      "outputs": []
    },
    {
      "cell_type": "code",
      "metadata": {
        "id": "41rnGJpR2ggr"
      },
      "source": [
        "# # To test if the above block worked, run this block\n",
        "# !ls '/content/gdrive/My Drive/'"
      ],
      "execution_count": 52,
      "outputs": []
    },
    {
      "cell_type": "markdown",
      "metadata": {
        "id": "uUO2zD1ep2ag"
      },
      "source": [
        "## Neural Network\n",
        "\n",
        "The `neural_network` function creates a model that learns to classify handwritten digits.\n",
        "\n",
        "Inputs:\n",
        "* `X_train` is the training data\n",
        "* `y_train` are the training labels\n",
        "* `X_test` is the testing data\n",
        "* `y_test` are the testing labels\n",
        "\n",
        "Outputs: \n",
        "* `test_loss` is the loss after evaluating the testing dataset\n",
        "* `test_acc` is the accuracy after evaluating the testing dataset\n",
        "* `predictions` are the models predictions of the testing dataset\n",
        "\n",
        "Note: Have fun and be creative with this assignment!\n"
      ]
    },
    {
      "cell_type": "code",
      "metadata": {
        "colab": {
          "base_uri": "https://localhost:8080/"
        },
        "id": "4FUDs9M0Njp7",
        "outputId": "50317c8d-5201-44c8-d4d0-f9cf5e22a2c2"
      },
      "source": [
        "(X_train, y_train), (X_test, y_test) = mnist.load_data()\r\n",
        "print(\"Number of training images:\", X_train.shape[0])\r\n",
        "print(\"Image size:\", X_train.shape[1:])\r\n",
        "print(\"Number of testing images:\", X_test.shape[0])\r\n",
        "print(\"Image size:\", X_train.shape[1:])"
      ],
      "execution_count": 53,
      "outputs": [
        {
          "output_type": "stream",
          "text": [
            "Number of training images: 60000\n",
            "Image size: (28, 28)\n",
            "Number of testing images: 10000\n",
            "Image size: (28, 28)\n"
          ],
          "name": "stdout"
        }
      ]
    },
    {
      "cell_type": "code",
      "metadata": {
        "colab": {
          "base_uri": "https://localhost:8080/",
          "height": 591
        },
        "id": "81vXO4CrNwrj",
        "outputId": "e9fa8bcc-2109-4df1-d308-5128eb0280d0"
      },
      "source": [
        "plt.figure(figsize=(10, 10))\r\n",
        "for i in range(25):\r\n",
        "  plt.subplot(5, 5, i + 1)\r\n",
        "  plt.imshow(X_train[i])\r\n",
        "  plt.axis(\"off\")\r\n",
        "  plt.title(y_train[i])\r\n",
        "plt.show()"
      ],
      "execution_count": 54,
      "outputs": [
        {
          "output_type": "display_data",
          "data": {
            "image/png": "[encoded data removed]",
            "text/plain": [
              "<Figure size 720x720 with 25 Axes>"
            ]
          },
          "metadata": {
            "tags": [],
            "needs_background": "light"
          }
        }
      ]
    },
    {
      "cell_type": "markdown",
      "metadata": {
        "id": "EVvP0vCKqYsx"
      },
      "source": [
        "## Run and Plot\n",
        "\n",
        "Run your neural network code and plot figures below"
      ]
    },
    {
      "cell_type": "code",
      "metadata": {
        "id": "MMZsryYJN2kG"
      },
      "source": [
        "# Scale the data\r\n",
        "X_train = X_train / 255.0\r\n",
        "X_test = X_test / 255.0"
      ],
      "execution_count": 55,
      "outputs": []
    },
    {
      "cell_type": "code",
      "metadata": {
        "colab": {
          "base_uri": "https://localhost:8080/"
        },
        "id": "CfmzUa8VMalR",
        "outputId": "428a5f01-de78-4f34-9954-ade373cd8299"
      },
      "source": [
        "#  Model 1 for dense=10 no activation function, all are Dense layers, 10% of the training data for validation\r\n",
        "def neural_network(x_train, y_train, x_test, y_test):\r\n",
        "  # Implement model\r\n",
        "  model = Sequential()\r\n",
        "  model.add(Flatten())\r\n",
        "  model.add(Dense(50, activation=\"relu\"))\r\n",
        "  model.add(Dense(20, activation='relu'))\r\n",
        "  model.add(Dense(10))\r\n",
        "  model.compile(optimizer='adam', loss=tf.keras.losses.SparseCategoricalCrossentropy(from_logits=True), metrics=['accuracy'])\r\n",
        "\r\n",
        "  history = model.fit(X_train, y_train, epochs=20,  validation_split=0.1, verbose=0)\r\n",
        "\r\n",
        "  # Feel free to change this up, but leave it at first\r\n",
        "  model.compile(optimizer='adam', loss=tf.keras.losses.SparseCategoricalCrossentropy(from_logits=True), metrics=['accuracy'])\r\n",
        "  \r\n",
        "  # Fit and evaluate\r\n",
        "  test_loss, test_acc = model.evaluate(X_test, y_test)\r\n",
        "  # Calculate predictions\r\n",
        "  predictions = model.predict(X_test)\r\n",
        "  # predictions = np.argmax(predictions, axis=1).shape  \r\n",
        "  return test_loss, test_acc, predictions\r\n",
        "\r\n",
        "\r\n",
        "test_loss, test_acc, predictions_1 = neural_network(X_train, y_train, X_test, y_test)\r\n",
        "print(\"Test loss:\", test_loss)\r\n",
        "print(\"Test accuracy:\", test_acc)"
      ],
      "execution_count": 56,
      "outputs": [
        {
          "output_type": "stream",
          "text": [
            "313/313 [==============================] - 1s 1ms/step - loss: 0.1474 - accuracy: 0.9676\n",
            "Test loss: 0.12677660584449768\n",
            "Test accuracy: 0.972000002861023\n"
          ],
          "name": "stdout"
        }
      ]
    },
    {
      "cell_type": "code",
      "metadata": {
        "colab": {
          "base_uri": "https://localhost:8080/"
        },
        "id": "80zLYXHwp5ms",
        "outputId": "7c3f9b4c-245b-44b1-fa61-20626053f97f"
      },
      "source": [
        "#  Model 2 for dense=10 no activation function, add two Dropout layers, add the epochs to 40, 10% of the training data for validation\n",
        "def neural_network(x_train, y_train, x_test, y_test):\n",
        "  # Implement model\n",
        "  model = Sequential()\n",
        "  model.add(Flatten())\n",
        "  model.add(Dense(50, activation=\"relu\"))\n",
        "  model.add(Dropout(0.1))\n",
        "  model.add(Dense(20, activation='relu'))\n",
        "  model.add(Dropout(0.1))\n",
        "  model.add(Dense(10))\n",
        "  model.compile(optimizer='adam', loss=tf.keras.losses.SparseCategoricalCrossentropy(from_logits=True), metrics=['accuracy'])\n",
        "\n",
        "  history = model.fit(X_train, y_train, epochs=40,  validation_split=0.1, verbose=0)\n",
        "\n",
        "  # Feel free to change this up, but leave it at first\n",
        "  model.compile(optimizer='adam', loss=tf.keras.losses.SparseCategoricalCrossentropy(from_logits=True), metrics=['accuracy'])\n",
        "  \n",
        "  # Fit and evaluate\n",
        "  test_loss, test_acc = model.evaluate(X_test, y_test)\n",
        "  # Calculate predictions\n",
        "  predictions = model.predict(X_test)\n",
        "  # predictions = np.argmax(predictions, axis=1).shape  \n",
        "  return test_loss, test_acc, predictions\n",
        "\n",
        "\n",
        "test_loss, test_acc, predictions_2 = neural_network(X_train, y_train, X_test, y_test)\n",
        "print(\"Test loss:\", test_loss)\n",
        "print(\"Test accuracy:\", test_acc)"
      ],
      "execution_count": 57,
      "outputs": [
        {
          "output_type": "stream",
          "text": [
            "313/313 [==============================] - 1s 1ms/step - loss: 0.1334 - accuracy: 0.9687\n",
            "Test loss: 0.11696485430002213\n",
            "Test accuracy: 0.9735999703407288\n"
          ],
          "name": "stdout"
        }
      ]
    },
    {
      "cell_type": "code",
      "metadata": {
        "id": "GH7OZTjaOo1d",
        "colab": {
          "base_uri": "https://localhost:8080/"
        },
        "outputId": "f18c62fc-cfd7-4561-8957-bbc803285eef"
      },
      "source": [
        "# Model 3 for dense=10 no activation function, a deeper network, and add the epochs to 40, 15% of the training data for validation\r\n",
        "def neural_network(x_train, y_train, x_test, y_test):\r\n",
        "  # Implement model\r\n",
        "  model = Sequential()\r\n",
        "  model.add(Flatten())\r\n",
        "  model.add(Dense(50, activation=\"relu\"))\r\n",
        "  model.add(Dropout(0.1))\r\n",
        "  model.add(Dense(20, activation='relu'))\r\n",
        "  model.add(Dropout(0.1))\r\n",
        "  model.add(Dense(20, activation='relu'))\r\n",
        "  model.add(Dropout(0.1))\r\n",
        "  model.add(Dense(10))\r\n",
        "  model.compile(optimizer='adam', loss=tf.keras.losses.SparseCategoricalCrossentropy(from_logits=True), metrics=['accuracy'])\r\n",
        "\r\n",
        "  history = model.fit(X_train, y_train, epochs=60,  validation_split=0.15, verbose=0)\r\n",
        "\r\n",
        "  # Feel free to change this up, but leave it at first\r\n",
        "  model.compile(optimizer='adam', loss=tf.keras.losses.SparseCategoricalCrossentropy(from_logits=True), metrics=['accuracy'])\r\n",
        "  \r\n",
        "  # Fit and evaluate\r\n",
        "  test_loss, test_acc = model.evaluate(X_test, y_test)\r\n",
        "  # Calculate predictions\r\n",
        "  predictions = model.predict(X_test)\r\n",
        "  # predictions = np.argmax(predictions, axis=1).shape  \r\n",
        "  return test_loss, test_acc, predictions\r\n",
        "\r\n",
        "\r\n",
        "test_loss, test_acc, predictions_3 = neural_network(X_train, y_train, X_test, y_test)\r\n",
        "print(\"Test loss:\", test_loss)\r\n",
        "print(\"Test accuracy:\", test_acc)"
      ],
      "execution_count": 58,
      "outputs": [
        {
          "output_type": "stream",
          "text": [
            "313/313 [==============================] - 1s 1ms/step - loss: 0.1467 - accuracy: 0.9667\n",
            "Test loss: 0.1272159367799759\n",
            "Test accuracy: 0.9713000059127808\n"
          ],
          "name": "stdout"
        }
      ]
    },
    {
      "cell_type": "code",
      "metadata": {
        "colab": {
          "base_uri": "https://localhost:8080/"
        },
        "id": "LEfN9w__p5c1",
        "outputId": "55c2a870-65a7-4115-9568-8434c314a0d7"
      },
      "source": [
        "# Model 4, model 3 with added softmax layer\n",
        "def neural_network(x_train, y_train, x_test, y_test):\n",
        "  # Implement model\n",
        "  model = Sequential()\n",
        "  model.add(Flatten())\n",
        "  model.add(Dense(50, activation=\"relu\"))\n",
        "  model.add(Dropout(0.1))\n",
        "  model.add(Dense(20, activation='relu'))\n",
        "  model.add(Dropout(0.1))\n",
        "  model.add(Dense(10))\n",
        "  model.add(Dense(10, activation=\"softmax\"))\n",
        "  model.compile(optimizer='adam', loss=tf.keras.losses.SparseCategoricalCrossentropy(from_logits=True), metrics=['accuracy'])\n",
        "\n",
        "  history = model.fit(X_train, y_train, epochs=60,  validation_split=0.15, verbose=0)\n",
        "\n",
        "  # Feel free to change this up, but leave it at first\n",
        "  model.compile(optimizer='adam', loss=tf.keras.losses.SparseCategoricalCrossentropy(from_logits=True), metrics=['accuracy'])\n",
        "  \n",
        "  # Fit and evaluate\n",
        "  test_loss, test_acc = model.evaluate(X_test, y_test)\n",
        "  # Calculate predictions\n",
        "  predictions = model.predict(X_test)\n",
        "  # predictions = np.argmax(predictions, axis=1).shape  \n",
        "  return test_loss, test_acc, predictions\n",
        "\n",
        "\n",
        "test_loss, test_acc, predictions_4 = neural_network(X_train, y_train, X_test, y_test)\n",
        "print(\"Test loss:\", test_loss)\n",
        "print(\"Test accuracy:\", test_acc)"
      ],
      "execution_count": 73,
      "outputs": [
        {
          "output_type": "stream",
          "text": [
            "313/313 [==============================] - 1s 1ms/step - loss: 0.1496 - accuracy: 0.9657\n",
            "Test loss: 0.125540629029274\n",
            "Test accuracy: 0.9713000059127808\n"
          ],
          "name": "stdout"
        }
      ]
    },
    {
      "cell_type": "code",
      "metadata": {
        "id": "8VC_YteHZcd-",
        "colab": {
          "base_uri": "https://localhost:8080/",
          "height": 289
        },
        "outputId": "9ea1aac0-6069-433f-c92b-5905c74f137b"
      },
      "source": [
        "# Use model 4 to predict and plot\r\n",
        "predictions = predictions_4\r\n",
        "\r\n",
        "plt.figure(figsize=(20, 3))\r\n",
        "for i in range(1, 10):\r\n",
        "  plt.subplot(1, 10, i + 1)\r\n",
        "  plt.imshow(X_test[i])\r\n",
        "  plt.title(y_test[i])\r\n",
        "  plt.axis(\"off\")\r\n",
        "plt.show()\r\n",
        "\r\n",
        "plt.figure(figsize=(20, 3))\r\n",
        "for i in range(1, 10):\r\n",
        "  plt.subplot(1, 10, i + 1)\r\n",
        "  plt.bar(range(10), predictions[i])\r\n",
        "  plt.xticks(range(10), range(10))\r\n",
        "  plt.title(y_test[i])\r\n",
        "plt.show()"
      ],
      "execution_count": 74,
      "outputs": [
        {
          "output_type": "display_data",
          "data": {
            "image/png": "[encoded data removed]",
            "text/plain": [
              "<Figure size 1440x216 with 9 Axes>"
            ]
          },
          "metadata": {
            "tags": [],
            "needs_background": "light"
          }
        },
        {
          "output_type": "display_data",
          "data": {
            "image/png": "[encoded data removed]",
            "text/plain": [
              "<Figure size 1440x216 with 9 Axes>"
            ]
          },
          "metadata": {
            "tags": [],
            "needs_background": "light"
          }
        }
      ]
    },
    {
      "cell_type": "code",
      "metadata": {
        "id": "t98qTUarTmqD",
        "colab": {
          "base_uri": "https://localhost:8080/",
          "height": 281
        },
        "outputId": "b6670e5a-2000-4d7c-83c0-bdae14dc96f8"
      },
      "source": [
        "import numpy as np\r\n",
        "import matplotlib.pyplot as plt\r\n",
        "from matplotlib.colors import ListedColormap\r\n",
        "from sklearn import neighbors, datasets\r\n",
        "\r\n",
        "n_neighbors = 1\r\n",
        "\r\n",
        "# import some data to play with\r\n",
        "pts = np.array([[2,0,1],[5,2,1],[6,3,1],[0,1,-1],[2,3,-1],[4,4,-1]])\r\n",
        "# print(pts)\r\n",
        "X = pts[:, :2]\r\n",
        "#print(X)\r\n",
        "y = pts[:,2]\r\n",
        "\r\n",
        "h = .02  # step size in the mesh\r\n",
        "\r\n",
        "# Create color maps\r\n",
        "cmap_light = ListedColormap(['#ffc0cb', '#7cfc00'])\r\n",
        "cmap_bold = ListedColormap(['#000000', '#000000'])\r\n",
        "\r\n",
        "for weights in ['uniform']:\r\n",
        "    # we create an instance of Neighbours Classifier and fit the data.\r\n",
        "    clf = neighbors.KNeighborsClassifier(n_neighbors, weights=weights)\r\n",
        "    clf.fit(X, y)\r\n",
        "\r\n",
        "    # Plot the decision boundary. For that, we will assign a color to each\r\n",
        "    # point in the mesh [x_min, x_max]x[y_min, y_max].\r\n",
        "    x_min, x_max = X[:, 0].min() - 1, X[:, 0].max() + 1\r\n",
        "    y_min, y_max = X[:, 1].min() - 1, X[:, 1].max() + 1\r\n",
        "    xx, yy = np.meshgrid(np.arange(x_min, x_max, h),\r\n",
        "                         np.arange(y_min, y_max, h))\r\n",
        "    Z = clf.predict(np.c_[xx.ravel(), yy.ravel()])\r\n",
        "\r\n",
        "    # Put the result into a color plot\r\n",
        "    Z = Z.reshape(xx.shape)\r\n",
        "    plt.figure()\r\n",
        "    plt.pcolormesh(xx, yy, Z, cmap=cmap_light)\r\n",
        "    plt.contour(xx, yy, Z, alpha=0.1)\r\n",
        "\r\n",
        "    # Plot also the training points\r\n",
        "    plt.scatter(X[:, 0], X[:, 1], c=y, cmap=cmap_bold)\r\n",
        "    plt.xlim(xx.min(), xx.max())\r\n",
        "    plt.ylim(yy.min(), yy.max())\r\n",
        "    plt.title(\"Decision Boundary for unscaled data (neighbour = %i)\"% (n_neighbors))\r\n",
        "\r\n",
        "plt.show()\r\n"
      ],
      "execution_count": 61,
      "outputs": [
        {
          "output_type": "display_data",
          "data": {
            "image/png": "[encoded data removed]",
            "text/plain": [
              "<Figure size 432x288 with 1 Axes>"
            ]
          },
          "metadata": {
            "tags": [],
            "needs_background": "light"
          }
        }
      ]
    },
    {
      "cell_type": "code",
      "metadata": {
        "id": "tLJU1c2A0XBa",
        "colab": {
          "base_uri": "https://localhost:8080/",
          "height": 281
        },
        "outputId": "aa280661-89a3-40e3-9867-6f92836c3a02"
      },
      "source": [
        "#Scaling\r\n",
        "\r\n",
        "# import some data to play with\r\n",
        "pts = np.array([[2,0,1],[5,2*5,1],[6,3*5,1],[0,1*5,-1],[2,3*5,-1],[4,4*5,-1]])\r\n",
        "# print(pts)\r\n",
        "X = pts[:, :2]\r\n",
        "#print(X)\r\n",
        "y = pts[:,2]\r\n",
        "\r\n",
        "h = .02  # step size in the mesh\r\n",
        "\r\n",
        "# Create color maps\r\n",
        "cmap_light = ListedColormap(['#ffc0cb', '#7cfc00'])\r\n",
        "cmap_bold = ListedColormap(['#000000', '#000000'])\r\n",
        "\r\n",
        "for weights in ['uniform']:\r\n",
        "    # we create an instance of Neighbours Classifier and fit the data.\r\n",
        "    clf = neighbors.KNeighborsClassifier(n_neighbors, weights=weights)\r\n",
        "    clf.fit(X, y)\r\n",
        "\r\n",
        "    # Plot the decision boundary. For that, we will assign a color to each\r\n",
        "    # point in the mesh [x_min, x_max]x[y_min, y_max].\r\n",
        "    x_min, x_max = X[:, 0].min() - 1, X[:, 0].max() + 1\r\n",
        "    y_min, y_max = X[:, 1].min() - 1, X[:, 1].max() + 1\r\n",
        "    xx, yy = np.meshgrid(np.arange(x_min, x_max, h),\r\n",
        "                         np.arange(y_min, y_max, h))\r\n",
        "    Z = clf.predict(np.c_[xx.ravel(), yy.ravel()])\r\n",
        "\r\n",
        "    # Put the result into a color plot\r\n",
        "    Z = Z.reshape(xx.shape)\r\n",
        "    plt.figure()\r\n",
        "    plt.pcolormesh(xx, yy, Z, cmap=cmap_light)\r\n",
        "    plt.contour(xx, yy, Z, alpha=0.1)\r\n",
        "\r\n",
        "    # Plot also the training points\r\n",
        "    plt.scatter(X[:, 0], X[:, 1], c=y, cmap=cmap_bold)\r\n",
        "    plt.xlim(xx.min(), xx.max())\r\n",
        "    plt.ylim(yy.min(), yy.max())\r\n",
        "    plt.title(\"Decision Boundary for Scaled data (neighbour = %i)\"% (n_neighbors))\r\n",
        "\r\n",
        "plt.show()"
      ],
      "execution_count": 62,
      "outputs": [
        {
          "output_type": "display_data",
          "data": {
            "image/png": "[encoded data removed]",
            "text/plain": [
              "<Figure size 432x288 with 1 Axes>"
            ]
          },
          "metadata": {
            "tags": [],
            "needs_background": "light"
          }
        }
      ]
    },
    {
      "cell_type": "markdown",
      "metadata": {
        "id": "CvotGgJ_2mup"
      },
      "source": [
        "## Random Forest\n",
        "\n",
        "The `random_forest` function learns an ensemble of numBags CART decision trees using a random subset of the features at each split on the input dataset and also plots the  out-of-bag error as a function of the number of bags\n",
        "\n",
        "Inputs:\n",
        "* `X_train` is the training data\n",
        "* `y_train` are the training labels\n",
        "* `X_test` is the testing data\n",
        "* `y_test` are the testing labels\n",
        "* `num_bags` is the number of trees to learn in the ensemble\n",
        "* `m` is the number of randomly selected features to consider at each split\n",
        "\n",
        "Outputs: \n",
        "* `out_of_bag_error` is the out-of-bag classification error of the final learned ensemble\n",
        "* `test_error` is the classification error of the final learned ensemble on test data\n",
        "\n",
        "Note: You may use sklearns 'DecisonTreeClassifier' but **not** 'RandomForestClassifier' or any other bagging function\n",
        "\n"
      ]
    },
    {
      "cell_type": "code",
      "metadata": {
        "id": "UlZ-XeLN2iTv"
      },
      "source": [
        "def random_forest(X_train, y_train, X_test, y_test, num_bags, m):\n",
        "\n",
        "  # Your code here, assign the proper values to out_of_bag_error and test_error:\n",
        "\n",
        "\n",
        "  return out_of_bag_error, test_error"
      ],
      "execution_count": 63,
      "outputs": []
    },
    {
      "cell_type": "markdown",
      "metadata": {
        "id": "j7Cuyd_N9rH_"
      },
      "source": [
        "## Run and Plot\n",
        "\n",
        "Run your random forest code and plot figures below"
      ]
    },
    {
      "cell_type": "code",
      "metadata": {
        "id": "L7seATRA9rge"
      },
      "source": [
        "# Other random forest code here:\n"
      ],
      "execution_count": 64,
      "outputs": []
    }
  ]
}