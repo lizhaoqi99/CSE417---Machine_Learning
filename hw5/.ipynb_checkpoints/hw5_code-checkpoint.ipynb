{
 "cells": [
  {
   "cell_type": "markdown",
   "metadata": {
    "id": "isUVtIh32QpY"
   },
   "source": [
    "# Homework 5 Code"
   ]
  },
  {
   "cell_type": "code",
   "execution_count": 1,
   "metadata": {
    "id": "wVUYkUOixhB9"
   },
   "outputs": [],
   "source": [
    "# Add import statements here\n",
    "from sklearn.tree import DecisionTreeClassifier\n",
    "from sklearn.utils import resample\n",
    "from scipy.stats import mode\n",
    "import pandas as pd\n",
    "import numpy as np\n",
    "import matplotlib.pyplot as plt\n",
    "import tensorflow as tf\n",
    "import csv\n",
    "\n",
    "from tensorflow.keras.datasets import mnist\n",
    "from tensorflow.keras.models import Sequential\n",
    "from tensorflow.keras.layers import Dense, Dropout\n",
    "from keras.layers.core import Flatten"
   ]
  },
  {
   "cell_type": "code",
   "execution_count": null,
   "metadata": {
    "id": "FidREiWX2eOL"
   },
   "outputs": [],
   "source": [
    "# To access files in your Google Drive, run this block and follow the instructions\n",
    "#from google.colab import drive\n",
    "#drive.mount('/content/gdrive')"
   ]
  },
  {
   "cell_type": "code",
   "execution_count": null,
   "metadata": {
    "id": "41rnGJpR2ggr"
   },
   "outputs": [],
   "source": [
    "# To test if the above block worked, run this block\n",
    "#!ls '/content/gdrive/My Drive/'"
   ]
  },
  {
   "cell_type": "markdown",
   "metadata": {
    "id": "uUO2zD1ep2ag"
   },
   "source": [
    "## Neural Network\n",
    "\n",
    "The `neural_network` function creates a model that learns to classify handwritten digits.\n",
    "\n",
    "Inputs:\n",
    "* `X_train` is the training data\n",
    "* `y_train` are the training labels\n",
    "* `X_test` is the testing data\n",
    "* `y_test` are the testing labels\n",
    "\n",
    "Outputs: \n",
    "* `test_loss` is the loss after evaluating the testing dataset\n",
    "* `test_acc` is the accuracy after evaluating the testing dataset\n",
    "* `predictions` are the models predictions of the testing dataset\n",
    "\n",
    "Note: Have fun and be creative with this assignment!\n"
   ]
  },
  {
   "cell_type": "code",
   "execution_count": null,
   "metadata": {},
   "outputs": [],
   "source": [
    "(X_train, y_train), (X_test, y_test) = mnist.load_data()\n",
    "print(\"Number of training images:\", X_train.shape[0])\n",
    "print(\"Image size:\", X_train.shape[1:])\n",
    "print(\"Number of testing images:\", X_test.shape[0])\n",
    "print(\"Image size:\", X_train.shape[1:])"
   ]
  },
  {
   "cell_type": "code",
   "execution_count": null,
   "metadata": {},
   "outputs": [],
   "source": [
    "plt.figure(figsize=(10, 10))\n",
    "for i in range(25):\n",
    "    plt.subplot(5, 5, i + 1)\n",
    "    plt.imshow(X_train[i])\n",
    "    plt.axis(\"off\")\n",
    "    plt.title(y_train[i])\n",
    "plt.show()"
   ]
  },
  {
   "cell_type": "markdown",
   "metadata": {
    "id": "EVvP0vCKqYsx"
   },
   "source": [
    "## Run and Plot\n",
    "\n",
    "Run your neural network code and plot figures below"
   ]
  },
  {
   "cell_type": "code",
   "execution_count": 128,
   "metadata": {
    "id": "LEfN9w__p5c1"
   },
   "outputs": [],
   "source": [
    "# Scale the data\n",
    "X_train = X_train / 255.0\n",
    "X_test = X_test / 255.0"
   ]
  },
  {
   "cell_type": "code",
   "execution_count": 129,
   "metadata": {},
   "outputs": [
    {
     "ename": "NameError",
     "evalue": "name 'Sequential' is not defined",
     "output_type": "error",
     "traceback": [
      "\u001b[1;31m---------------------------------------------------------------------------\u001b[0m",
      "\u001b[1;31mNameError\u001b[0m                                 Traceback (most recent call last)",
      "\u001b[1;32m<ipython-input-129-90282c47631a>\u001b[0m in \u001b[0;36m<module>\u001b[1;34m\u001b[0m\n\u001b[0;32m     21\u001b[0m \u001b[1;33m\u001b[0m\u001b[0m\n\u001b[0;32m     22\u001b[0m \u001b[1;33m\u001b[0m\u001b[0m\n\u001b[1;32m---> 23\u001b[1;33m \u001b[0mtest_loss\u001b[0m\u001b[1;33m,\u001b[0m \u001b[0mtest_acc\u001b[0m\u001b[1;33m,\u001b[0m \u001b[0mpredictions_1\u001b[0m \u001b[1;33m=\u001b[0m \u001b[0mneural_network\u001b[0m\u001b[1;33m(\u001b[0m\u001b[0mX_train\u001b[0m\u001b[1;33m,\u001b[0m \u001b[0my_train\u001b[0m\u001b[1;33m,\u001b[0m \u001b[0mX_test\u001b[0m\u001b[1;33m,\u001b[0m \u001b[0my_test\u001b[0m\u001b[1;33m)\u001b[0m\u001b[1;33m\u001b[0m\u001b[1;33m\u001b[0m\u001b[0m\n\u001b[0m\u001b[0;32m     24\u001b[0m \u001b[0mprint\u001b[0m\u001b[1;33m(\u001b[0m\u001b[1;34m\"Test loss:\"\u001b[0m\u001b[1;33m,\u001b[0m \u001b[0mtest_loss\u001b[0m\u001b[1;33m)\u001b[0m\u001b[1;33m\u001b[0m\u001b[1;33m\u001b[0m\u001b[0m\n\u001b[0;32m     25\u001b[0m \u001b[0mprint\u001b[0m\u001b[1;33m(\u001b[0m\u001b[1;34m\"Test accuracy:\"\u001b[0m\u001b[1;33m,\u001b[0m \u001b[0mtest_acc\u001b[0m\u001b[1;33m)\u001b[0m\u001b[1;33m\u001b[0m\u001b[1;33m\u001b[0m\u001b[0m\n",
      "\u001b[1;32m<ipython-input-129-90282c47631a>\u001b[0m in \u001b[0;36mneural_network\u001b[1;34m(x_train, y_train, x_test, y_test)\u001b[0m\n\u001b[0;32m      2\u001b[0m \u001b[1;32mdef\u001b[0m \u001b[0mneural_network\u001b[0m\u001b[1;33m(\u001b[0m\u001b[0mx_train\u001b[0m\u001b[1;33m,\u001b[0m \u001b[0my_train\u001b[0m\u001b[1;33m,\u001b[0m \u001b[0mx_test\u001b[0m\u001b[1;33m,\u001b[0m \u001b[0my_test\u001b[0m\u001b[1;33m)\u001b[0m\u001b[1;33m:\u001b[0m\u001b[1;33m\u001b[0m\u001b[1;33m\u001b[0m\u001b[0m\n\u001b[0;32m      3\u001b[0m     \u001b[1;31m# Implement model\u001b[0m\u001b[1;33m\u001b[0m\u001b[1;33m\u001b[0m\u001b[1;33m\u001b[0m\u001b[0m\n\u001b[1;32m----> 4\u001b[1;33m     \u001b[0mmodel\u001b[0m \u001b[1;33m=\u001b[0m \u001b[0mSequential\u001b[0m\u001b[1;33m(\u001b[0m\u001b[1;33m)\u001b[0m\u001b[1;33m\u001b[0m\u001b[1;33m\u001b[0m\u001b[0m\n\u001b[0m\u001b[0;32m      5\u001b[0m     \u001b[0mmodel\u001b[0m\u001b[1;33m.\u001b[0m\u001b[0madd\u001b[0m\u001b[1;33m(\u001b[0m\u001b[0mFlatten\u001b[0m\u001b[1;33m(\u001b[0m\u001b[1;33m)\u001b[0m\u001b[1;33m)\u001b[0m\u001b[1;33m\u001b[0m\u001b[1;33m\u001b[0m\u001b[0m\n\u001b[0;32m      6\u001b[0m     \u001b[0mmodel\u001b[0m\u001b[1;33m.\u001b[0m\u001b[0madd\u001b[0m\u001b[1;33m(\u001b[0m\u001b[0mDense\u001b[0m\u001b[1;33m(\u001b[0m\u001b[1;36m50\u001b[0m\u001b[1;33m,\u001b[0m \u001b[0mactivation\u001b[0m\u001b[1;33m=\u001b[0m\u001b[1;34m\"relu\"\u001b[0m\u001b[1;33m)\u001b[0m\u001b[1;33m)\u001b[0m\u001b[1;33m\u001b[0m\u001b[1;33m\u001b[0m\u001b[0m\n",
      "\u001b[1;31mNameError\u001b[0m: name 'Sequential' is not defined"
     ]
    }
   ],
   "source": [
    "#  Model 1 for dense=10 no activation function, all are Dense layers, 10% of the training data for validation\n",
    "def neural_network(x_train, y_train, x_test, y_test):\n",
    "    # Implement model\n",
    "    model = Sequential()\n",
    "    model.add(Flatten())\n",
    "    model.add(Dense(50, activation=\"relu\"))\n",
    "    model.add(Dense(20, activation='relu'))\n",
    "    model.add(Dense(10))\n",
    "    model.compile(optimizer='adam', loss=tf.keras.losses.SparseCategoricalCrossentropy(from_logits=True), metrics=['accuracy'])\n",
    "\n",
    "    history = model.fit(X_train, y_train, epochs=20,  validation_split=0.1, verbose=0)\n",
    "\n",
    "    # Feel free to change this up, but leave it at first\n",
    "    model.compile(optimizer='adam', loss=tf.keras.losses.SparseCategoricalCrossentropy(from_logits=True), metrics=['accuracy'])\n",
    "\n",
    "    # Fit and evaluate\n",
    "    test_loss, test_acc = model.evaluate(X_test, y_test)\n",
    "    # Calculate predictions\n",
    "    predictions = model.predict(X_test) \n",
    "    return test_loss, test_acc, predictions\n",
    "\n",
    "\n",
    "test_loss, test_acc, predictions_1 = neural_network(X_train, y_train, X_test, y_test)\n",
    "print(\"Test loss:\", test_loss)\n",
    "print(\"Test accuracy:\", test_acc)"
   ]
  },
  {
   "cell_type": "code",
   "execution_count": null,
   "metadata": {},
   "outputs": [],
   "source": [
    "#  Model 2 for dense=10 no activation function, add two Dropout layers, add the epochs to 40, 10% of the training data for validation\n",
    "def neural_network(x_train, y_train, x_test, y_test):\n",
    "    # Implement model\n",
    "    model = Sequential()\n",
    "    model.add(Flatten())\n",
    "    model.add(Dense(50, activation=\"relu\"))\n",
    "    model.add(Dropout(0.1))\n",
    "    model.add(Dense(20, activation='relu'))\n",
    "    model.add(Dropout(0.1))\n",
    "    model.add(Dense(10))\n",
    "    model.compile(optimizer='adam', loss=tf.keras.losses.SparseCategoricalCrossentropy(from_logits=True), metrics=['accuracy'])\n",
    "\n",
    "    history = model.fit(X_train, y_train, epochs=40,  validation_split=0.1, verbose=0)\n",
    "\n",
    "    # Feel free to change this up, but leave it at first\n",
    "    model.compile(optimizer='adam', loss=tf.keras.losses.SparseCategoricalCrossentropy(from_logits=True), metrics=['accuracy'])\n",
    "\n",
    "    # Fit and evaluate\n",
    "    test_loss, test_acc = model.evaluate(X_test, y_test)\n",
    "    # Calculate predictions\n",
    "    predictions = model.predict(X_test)\n",
    "    return test_loss, test_acc, predictions\n",
    "\n",
    "\n",
    "test_loss, test_acc, predictions_2 = neural_network(X_train, y_train, X_test, y_test)\n",
    "print(\"Test loss:\", test_loss)\n",
    "print(\"Test accuracy:\", test_acc)"
   ]
  },
  {
   "cell_type": "code",
   "execution_count": null,
   "metadata": {},
   "outputs": [],
   "source": [
    "# Model 3 for dense=10 no activation function, a deeper network, and add the epochs to 40, 15% of the training data for validation\n",
    "def neural_network(x_train, y_train, x_test, y_test):\n",
    "    # Implement model\n",
    "    model = Sequential()\n",
    "    model.add(Flatten())\n",
    "    model.add(Dense(50, activation=\"relu\"))\n",
    "    model.add(Dropout(0.1))\n",
    "    model.add(Dense(20, activation='relu'))\n",
    "    model.add(Dropout(0.1))\n",
    "    model.add(Dense(20, activation='relu'))\n",
    "    model.add(Dropout(0.1))\n",
    "    model.add(Dense(10))\n",
    "    model.compile(optimizer='adam', loss=tf.keras.losses.SparseCategoricalCrossentropy(from_logits=True), metrics=['accuracy'])\n",
    "\n",
    "    history = model.fit(X_train, y_train, epochs=60,  validation_split=0.15, verbose=0)\n",
    "\n",
    "    # Feel free to change this up, but leave it at first\n",
    "    model.compile(optimizer='adam', loss=tf.keras.losses.SparseCategoricalCrossentropy(from_logits=True), metrics=['accuracy'])\n",
    "\n",
    "    # Fit and evaluate\n",
    "    test_loss, test_acc = model.evaluate(X_test, y_test)\n",
    "    # Calculate predictions\n",
    "    predictions = model.predict(X_test)\n",
    "    return test_loss, test_acc, predictions\n",
    "\n",
    "\n",
    "test_loss, test_acc, predictions_3 = neural_network(X_train, y_train, X_test, y_test)\n",
    "print(\"Test loss:\", test_loss)\n",
    "print(\"Test accuracy:\", test_acc)"
   ]
  },
  {
   "cell_type": "code",
   "execution_count": null,
   "metadata": {},
   "outputs": [],
   "source": [
    "# Model 4, model 3 with added softmax layer\n",
    "def neural_network(x_train, y_train, x_test, y_test):\n",
    "    # Implement model\n",
    "    model = Sequential()\n",
    "    model.add(Flatten())\n",
    "    model.add(Dense(50, activation=\"relu\"))\n",
    "    model.add(Dropout(0.1))\n",
    "    model.add(Dense(20, activation='relu'))\n",
    "    model.add(Dropout(0.1))\n",
    "    model.add(Dense(10))\n",
    "    model.add(Dense(10, activation=\"softmax\"))\n",
    "    model.compile(optimizer='adam', loss=tf.keras.losses.SparseCategoricalCrossentropy(from_logits=True), metrics=['accuracy'])\n",
    "\n",
    "    history = model.fit(X_train, y_train, epochs=60,  validation_split=0.15, verbose=0)\n",
    "\n",
    "    # Feel free to change this up, but leave it at first\n",
    "    model.compile(optimizer='adam', loss=tf.keras.losses.SparseCategoricalCrossentropy(from_logits=True), metrics=['accuracy'])\n",
    "\n",
    "    # Fit and evaluate\n",
    "    test_loss, test_acc = model.evaluate(X_test, y_test)\n",
    "    # Calculate predictions\n",
    "    predictions = model.predict(X_test)\n",
    "    return test_loss, test_acc, predictions\n",
    "\n",
    "\n",
    "test_loss, test_acc, predictions_4 = neural_network(X_train, y_train, X_test, y_test)\n",
    "print(\"Test loss:\", test_loss)\n",
    "print(\"Test accuracy:\", test_acc)"
   ]
  },
  {
   "cell_type": "code",
   "execution_count": null,
   "metadata": {},
   "outputs": [],
   "source": [
    "# Use model 4 to predict and plot\n",
    "predictions = predictions_4\n",
    "\n",
    "plt.figure(figsize=(20, 3))\n",
    "for i in range(1, 10):\n",
    "    plt.subplot(1, 10, i + 1)\n",
    "    plt.imshow(X_test[i])\n",
    "    plt.title(y_test[i])\n",
    "    plt.axis(\"off\")\n",
    "plt.show()\n",
    "\n",
    "plt.figure(figsize=(20, 3))\n",
    "for i in range(1, 10):\n",
    "    plt.subplot(1, 10, i + 1)\n",
    "    plt.bar(range(10), predictions[i])\n",
    "    plt.xticks(range(10), range(10))\n",
    "    plt.title(y_test[i])\n",
    "plt.show()"
   ]
  },
  {
   "cell_type": "code",
   "execution_count": null,
   "metadata": {},
   "outputs": [],
   "source": [
    "import numpy as np\n",
    "import matplotlib.pyplot as plt\n",
    "from matplotlib.colors import ListedColormap\n",
    "from sklearn import neighbors, datasets\n",
    "\n",
    "n_neighbors = 1\n",
    "\n",
    "# import some data to play with\n",
    "pts = np.array([[2,0,1],[5,2,1],[6,3,1],[0,1,-1],[2,3,-1],[4,4,-1]])\n",
    "X = pts[:, :2]\n",
    "y = pts[:,2]\n",
    "\n",
    "h = .02  # step size in the mesh\n",
    "\n",
    "# Create color maps\n",
    "cmap_light = ListedColormap(['#ffc0cb', '#7cfc00'])\n",
    "cmap_bold = ListedColormap(['#000000', '#000000'])\n",
    "\n",
    "for weights in ['uniform']:\n",
    "    # we create an instance of Neighbours Classifier and fit the data.\n",
    "    clf = neighbors.KNeighborsClassifier(n_neighbors, weights=weights)\n",
    "    clf.fit(X, y)\n",
    "\n",
    "    # Plot the decision boundary. For that, we will assign a color to each\n",
    "    # point in the mesh [x_min, x_max]x[y_min, y_max].\n",
    "    x_min, x_max = X[:, 0].min() - 1, X[:, 0].max() + 1\n",
    "    y_min, y_max = X[:, 1].min() - 1, X[:, 1].max() + 1\n",
    "    xx, yy = np.meshgrid(np.arange(x_min, x_max, h),\n",
    "                         np.arange(y_min, y_max, h))\n",
    "    Z = clf.predict(np.c_[xx.ravel(), yy.ravel()])\n",
    "\n",
    "    # Put the result into a color plot\n",
    "    Z = Z.reshape(xx.shape)\n",
    "    plt.figure()\n",
    "    plt.pcolormesh(xx, yy, Z, cmap=cmap_light)\n",
    "    plt.contour(xx, yy, Z, alpha=0.1)\n",
    "\n",
    "    # Plot also the training points\n",
    "    plt.scatter(X[:, 0], X[:, 1], c=y, cmap=cmap_bold)\n",
    "    plt.xlim(xx.min(), xx.max())\n",
    "    plt.ylim(yy.min(), yy.max())\n",
    "    plt.title(\"Decision Boundary for unscaled data (neighbour = %i)\"% (n_neighbors))\n",
    "\n",
    "plt.show()   "
   ]
  },
  {
   "cell_type": "code",
   "execution_count": null,
   "metadata": {},
   "outputs": [],
   "source": [
    "#Scaling\n",
    "\n",
    "# import some data to play with\n",
    "pts = np.array([[2,0,1],[5,2*5,1],[6,3*5,1],[0,1*5,-1],[2,3*5,-1],[4,4*5,-1]])\n",
    "X = pts[:, :2]\n",
    "y = pts[:,2]\n",
    "\n",
    "h = .02  # step size in the mesh\n",
    "\n",
    "# Create color maps\n",
    "cmap_light = ListedColormap(['#ffc0cb', '#7cfc00'])\n",
    "cmap_bold = ListedColormap(['#000000', '#000000'])\n",
    "\n",
    "for weights in ['uniform']:\n",
    "    # we create an instance of Neighbours Classifier and fit the data.\n",
    "    clf = neighbors.KNeighborsClassifier(n_neighbors, weights=weights)\n",
    "    clf.fit(X, y)\n",
    "\n",
    "    # Plot the decision boundary. For that, we will assign a color to each\n",
    "    # point in the mesh [x_min, x_max]x[y_min, y_max].\n",
    "    x_min, x_max = X[:, 0].min() - 1, X[:, 0].max() + 1\n",
    "    y_min, y_max = X[:, 1].min() - 1, X[:, 1].max() + 1\n",
    "    xx, yy = np.meshgrid(np.arange(x_min, x_max, h),\n",
    "                         np.arange(y_min, y_max, h))\n",
    "    Z = clf.predict(np.c_[xx.ravel(), yy.ravel()])\n",
    "\n",
    "    # Put the result into a color plot\n",
    "    Z = Z.reshape(xx.shape)\n",
    "    plt.figure()\n",
    "    plt.pcolormesh(xx, yy, Z, cmap=cmap_light)\n",
    "    plt.contour(xx, yy, Z, alpha=0.1)\n",
    "\n",
    "    # Plot also the training points\n",
    "    plt.scatter(X[:, 0], X[:, 1], c=y, cmap=cmap_bold)\n",
    "    plt.xlim(xx.min(), xx.max())\n",
    "    plt.ylim(yy.min(), yy.max())\n",
    "    plt.title(\"Decision Boundary for Scaled data (neighbour = %i)\"% (n_neighbors))\n",
    "\n",
    "plt.show()"
   ]
  },
  {
   "cell_type": "markdown",
   "metadata": {
    "id": "CvotGgJ_2mup"
   },
   "source": [
    "## Random Forest\n",
    "\n",
    "The `random_forest` function learns an ensemble of numBags CART decision trees using a random subset of the features at each split on the input dataset and also plots the  out-of-bag error as a function of the number of bags\n",
    "\n",
    "Inputs:\n",
    "* `X_train` is the training data\n",
    "* `y_train` are the training labels\n",
    "* `X_test` is the testing data\n",
    "* `y_test` are the testing labels\n",
    "* `num_bags` is the number of trees to learn in the ensemble\n",
    "* `m` is the number of randomly selected features to consider at each split\n",
    "\n",
    "Outputs: \n",
    "* `out_of_bag_error` is the out-of-bag classification error of the final learned ensemble\n",
    "* `test_error` is the classification error of the final learned ensemble on test data\n",
    "\n",
    "Note: You may use sklearns 'DecisonTreeClassifier' but **not** 'RandomForestClassifier' or any other bagging function\n",
    "\n"
   ]
  },
  {
   "cell_type": "markdown",
   "metadata": {
    "id": "j7Cuyd_N9rH_"
   },
   "source": [
    "## Run and Plot\n",
    "\n",
    "Run your random forest code and plot figures below"
   ]
  },
  {
   "cell_type": "code",
   "execution_count": 125,
   "metadata": {
    "id": "UlZ-XeLN2iTv"
   },
   "outputs": [],
   "source": [
    "def random_forest(X_train, y_train, X_test, y_test, num_bags, m):\n",
    "\n",
    "    # Your code here, assign the proper values to out_of_bag_error and test_error:\n",
    "    clf_list = np.array([])\n",
    "    oob_list = {}\n",
    "    oob_y_list = {}\n",
    "    N = X_train.shape[0]\n",
    "    oob_pred_list = np.empty(N)\n",
    "    for i in range(num_bags):\n",
    "        # obtain bootstrapped datasets\n",
    "        X_boot, y_boot = resample(X_train, y_train, replace=True, n_samples=N)\n",
    "        \n",
    "        # obtain in-bag data points\n",
    "        X = np.unique(X_boot, axis=0)\n",
    "        in_bag_indices = np.array([])\n",
    "        for xi in X:\n",
    "            ind = np.where(np.all(X_train==xi, axis=1))\n",
    "            \n",
    "            in_bag_indices = np.append(in_bag_indices, ind)\n",
    "        in_bag_indices = in_bag_indices.astype(int)\n",
    "        y = y_train[in_bag_indices]\n",
    "        \n",
    "        # obtain out-of-bag data indices\n",
    "        oob_indices = np.array([])\n",
    "        for j in range(N):\n",
    "            if j not in in_bag_indices:\n",
    "                oob_indices = np.append(oob_indices, j)\n",
    "        oob_indices = oob_indices.astype(int)  \n",
    "        \n",
    "        # obtain out-of-bag data points\n",
    "        oob = X_train[oob_indices]\n",
    "        oob_list[i] = oob\n",
    "        \n",
    "        oob_y = y_train[oob_indices]\n",
    "        oob_y_list[i] = oob_y\n",
    "        \n",
    "        # learn hypotheses\n",
    "        clf = DecisionTreeClassifier(criterion='entropy', max_features=m).fit(X_boot, y_boot) \n",
    "        clf_list = np.append(clf_list, clf)\n",
    "        \n",
    "        # use oob_pred_list to keep track of oob prediction update\n",
    "        pred = clf.predict(oob)\n",
    "        oob_pred_list[oob_indices] += pred\n",
    "    \n",
    "    # compute out-of-bag error\n",
    "    with np.errstate(invalid='ignore'):\n",
    "        aggregate = np.sign(oob_pred_list)\n",
    "\n",
    "    out_of_bag_error = sum(aggregate != y_train)/N\n",
    "    \n",
    "    # compute test error\n",
    "    test_error_list = np.array([])\n",
    "    index = 0\n",
    "    for xi in X_test:\n",
    "        pred_list = np.array([])\n",
    "        for clf in clf_list:\n",
    "            pred = clf.predict(xi.reshape((1, len(xi))))            \n",
    "            pred_list = np.append(pred_list, pred)    \n",
    "        aggregate_pred = mode(pred_list)[0]\n",
    "        error = 1 if aggregate_pred != y_test[index] else 0\n",
    "        test_error_list = np.append(test_error_list, error)\n",
    "        index += 1\n",
    "    test_error = sum(test_error_list)/len(test_error_list)\n",
    "    \n",
    "    return out_of_bag_error, test_error"
   ]
  },
  {
   "cell_type": "code",
   "execution_count": 111,
   "metadata": {
    "id": "L7seATRA9rge"
   },
   "outputs": [],
   "source": [
    "# load the data\n",
    "training_data_path = \"./HW5_Data_Files/zip_train.csv\"\n",
    "test_data_path = \"./HW5_Data_Files/zip_test.csv\"\n",
    "training_data = pd.read_csv(training_data_path).to_numpy()\n",
    "test_data = pd.read_csv(test_data_path).to_numpy()\n",
    "\n",
    "X_train = training_data[:,1:]\n",
    "y_train = training_data[:,0]\n",
    "X_test = test_data[:,1:]\n",
    "y_test = test_data[:,0]\n",
    "\n",
    "m = \"sqrt\""
   ]
  },
  {
   "cell_type": "code",
   "execution_count": 112,
   "metadata": {},
   "outputs": [
    {
     "data": {
      "image/png": "[encoded data removed]",
      "text/plain": [
       "<Figure size 432x288 with 1 Axes>"
      ]
     },
     "metadata": {
      "needs_background": "light"
     },
     "output_type": "display_data"
    }
   ],
   "source": [
    "# distinguish between 1 and 3\n",
    "training_index_1v3 = np.logical_or(y_train==1, y_train==3)\n",
    "test_index_1v3 = np.logical_or(y_test==1, y_test==3)\n",
    "X_train_1v3 = X_train[training_index_1v3]\n",
    "y_train_1v3 = y_train[training_index_1v3]\n",
    "y_train_1v3[y_train_1v3==1] = -1\n",
    "y_train_1v3[y_train_1v3==3] = 1\n",
    "X_test_1v3 = X_test[test_index_1v3]\n",
    "y_test_1v3 = y_test[test_index_1v3]\n",
    "y_test_1v3[y_test_1v3==1] = -1\n",
    "y_test_1v3[y_test_1v3==3] = 1\n",
    "\n",
    "num_bags = np.arange(1, 201)\n",
    "out_of_bag_errors = []\n",
    "test_errors = []\n",
    "for num in num_bags:  \n",
    "    out_of_bag_error, test_error = random_forest(X_train_1v3, y_train_1v3, X_test_1v3, y_test_1v3, num, m)\n",
    "    out_of_bag_errors.append(out_of_bag_error)\n",
    "    test_errors.append(test_error)\n",
    "    \n",
    "plt.plot(num_bags, out_of_bag_errors, label=\"Out-of-bag error\")\n",
    "plt.plot(num_bags, test_errors, label=\"Test error\")\n",
    "plt.xlabel('Number of bags')\n",
    "plt.ylabel('Error')\n",
    "plt.title('Number of bags vs. Error in classifying between 1 and 3')\n",
    "plt.legend()\n",
    "plt.show()"
   ]
  },
  {
   "cell_type": "code",
   "execution_count": 126,
   "metadata": {},
   "outputs": [
    {
     "data": {
      "image/png": "[encoded data removed]",
      "text/plain": [
       "<Figure size 432x288 with 1 Axes>"
      ]
     },
     "metadata": {
      "needs_background": "light"
     },
     "output_type": "display_data"
    }
   ],
   "source": [
    "# distinguish between 3 and 5\n",
    "training_index_3v5 = np.logical_or(y_train==3, y_train==5)\n",
    "test_index_3v5 = np.logical_or(y_test==3, y_test==5)\n",
    "X_train_3v5 = X_train[training_index_3v5]\n",
    "y_train_3v5 = y_train[training_index_3v5]\n",
    "y_train_3v5[y_train_3v5==3] = 1\n",
    "y_train_3v5[y_train_3v5==5] = -1\n",
    "X_test_3v5 = X_test[test_index_3v5]\n",
    "y_test_3v5 = y_test[test_index_3v5]\n",
    "y_test_3v5[y_test_3v5==3] = 1\n",
    "y_test_3v5[y_test_3v5==5] = -1\n",
    "\n",
    "num_bags = np.arange(1, 201)\n",
    "out_of_bag_errors = []\n",
    "test_errors = []\n",
    "for num in num_bags:  \n",
    "    out_of_bag_error, test_error = random_forest(X_train_3v5, y_train_3v5, X_test_3v5, y_test_3v5, num, m)\n",
    "    out_of_bag_errors.append(out_of_bag_error)\n",
    "    test_errors.append(test_error)\n",
    "    \n",
    "plt.plot(num_bags, out_of_bag_errors, label=\"Out-of-bag error\")\n",
    "plt.plot(num_bags, test_errors, label=\"Test error\")\n",
    "plt.xlabel('Number of bags')\n",
    "plt.ylabel('Error')\n",
    "plt.title('Number of bags vs. Error in classifying between 3 and 5')\n",
    "plt.legend()\n",
    "plt.show()"
   ]
  },
  {
   "cell_type": "code",
   "execution_count": 127,
   "metadata": {},
   "outputs": [
    {
     "name": "stdout",
     "output_type": "stream",
     "text": [
      "out_of_bag_error for 1 vs. 3: 0.0006013229104028864\n",
      "test_error for 1 vs. 3: 0.009302325581395349\n",
      "out_of_bag_error for 3 vs. 5: 0.15074135090609556\n",
      "test_error for 3 vs. 5: 0.0705521472392638\n"
     ]
    }
   ],
   "source": [
    "# part b\n",
    "out_of_bag_error1, test_error1 = random_forest(X_train_1v3, y_train_1v3, X_test_1v3, y_test_1v3, 15, m)\n",
    "out_of_bag_error2, test_error2 = random_forest(X_train_3v5, y_train_3v5, X_test_3v5, y_test_3v5, 15, m)\n",
    "print(f'out_of_bag_error for 1 vs. 3: {out_of_bag_error1}')\n",
    "print(f'test_error for 1 vs. 3: {test_error1}')\n",
    "print(f'out_of_bag_error for 3 vs. 5: {out_of_bag_error2}')\n",
    "print(f'test_error for 3 vs. 5: {test_error2}')"
   ]
  },
  {
   "cell_type": "code",
   "execution_count": null,
   "metadata": {},
   "outputs": [],
   "source": []
  }
 ],
 "metadata": {
  "colab": {
   "collapsed_sections": [],
   "name": "hw5_code.ipynb",
   "provenance": []
  },
  "kernelspec": {
   "display_name": "Python 3",
   "language": "python",
   "name": "python3"
  },
  "language_info": {
   "codemirror_mode": {
    "name": "ipython",
    "version": 3
   },
   "file_extension": ".py",
   "mimetype": "text/x-python",
   "name": "python",
   "nbconvert_exporter": "python",
   "pygments_lexer": "ipython3",
   "version": "3.8.3"
  }
 },
 "nbformat": 4,
 "nbformat_minor": 4
}
