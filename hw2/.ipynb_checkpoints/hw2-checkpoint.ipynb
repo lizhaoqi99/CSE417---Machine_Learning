{
 "cells": [
  {
   "cell_type": "code",
   "execution_count": 2,
   "metadata": {},
   "outputs": [
    {
     "name": "stdout",
     "output_type": "stream",
     "text": [
      "(-0.0066865628081142475, -0.005046402480128087)\n",
      "(-7.464351470603655e-05, -0.0014773106036819702)\n",
      "(-0.0036964678381794726, 0.0026104119625848556)\n",
      "(-0.007161809174907927, -0.0004057928838035334)\n",
      "(0.0035795085531544857, 0.0007767596109809139)\n",
      "(0.002801951479425983, -0.0012664840804102713)\n",
      "(0.001741118051679107, -0.0007874945913348858)\n",
      "(-0.0016789228007011551, -0.0010481252373926709)\n",
      "(-0.0057513014887127165, -0.0005690175037480874)\n",
      "(-0.0033844563368205125, -0.0005227802046910265)\n"
     ]
    },
    {
     "data": {
      "image/png": "[encoded data removed]",
      "text/plain": [
       "<Figure size 432x288 with 1 Axes>"
      ]
     },
     "metadata": {
      "needs_background": "light"
     },
     "output_type": "display_data"
    },
    {
     "data": {
      "text/plain": [
       "range(10000, 100001, 10000)"
      ]
     },
     "execution_count": 2,
     "metadata": {},
     "output_type": "execute_result"
    }
   ],
   "source": [
    "import numpy as np\n",
    "import matplotlib.pyplot as plt\n",
    "from scipy import integrate\n",
    "plt.rcParams['font.sans-serif']=['SimHei'] #用来正常显示中文标签\n",
    "plt.rcParams['axes.unicode_minus']=False #用来正常显示负号\n",
    "def f(x):\n",
    "    return x ** 2\n",
    "\n",
    "#模拟求出系数\n",
    "def simulation(n):\n",
    "    a = 0\n",
    "    b = 0\n",
    "    #模拟n次\n",
    "    for i in range(n):\n",
    "        #产生-1,1之间均匀分布随机数\n",
    "        x1 = np.random.uniform(-1, 1)\n",
    "        x2 = np.random.uniform(-1, 1)\n",
    "        a1 = (x1 + x2)\n",
    "        b1 = - x1 * x2\n",
    "        a += a1\n",
    "        b += b1\n",
    "    return a / n, b / n\n",
    "\n",
    "    #比较下10000次以上的结果\n",
    "n = range(10 ** 4, 10 ** 5+1, 10 ** 4)\n",
    "result =[]\n",
    "for i in n:\n",
    "    temp = simulation(i)\n",
    "    print(temp)\n",
    "    result.append(temp)\n",
    "    \n",
    "#选择第一组数据并作图\n",
    "a, b = result[0]\n",
    "x1 = np.arange(-1, 1.1, 0.1)\n",
    "y1 = [f(i) for i in x1]\n",
    "x2 = np.array([-1, 1])\n",
    "y2 = a * x2 + b\n",
    "\n",
    "plt.plot(x1,y1)\n",
    "plt.plot(x2,y2)\n",
    "plt.show()"
   ]
  },
  {
   "cell_type": "code",
   "execution_count": null,
   "metadata": {},
   "outputs": [],
   "source": [
    "#计算积分\n",
    "#定义误差函数\n",
    "def s1(x, x1, x2):\n",
    "    a = (x1 + x2)\n",
    "    b = - x1 * x2\n",
    "    y = f(x)\n",
    "    y1 = a * x + b\n",
    "    return 1 / 8 * (y - y1) ** 2\n",
    "print(integrate.tplquad(s1, -1, 1, lambda x: -1, lambda x: 1,lambda x, y: -1, lambda x, y:\n",
    "1))\n",
    "\n",
    "#bias\n",
    "def bias(x):\n",
    "    y1 = a * x + b\n",
    "    y2 = f(x)\n",
    "    return (y1 - y2) ** 2 / 2\n",
    "print(integrate.quad(bias, -1, 1))\n",
    "\n",
    "#var\n",
    "def var(x, x1, x2):\n",
    "    yavg = a * x + b\n",
    "    a1 = (x1 + x2)\n",
    "    b1 = -x1 * x2\n",
    "    yrea = a1 * x + b1\n",
    "    return 1 / 8 * (yavg - yrea) ** 2\n",
    "print(integrate.tplquad(var, -1, 1, lambda x: -1, lambda x: 1,lambda x, y: -1, lambda x, y:\n",
    "1))\n"
   ]
  }
 ],
 "metadata": {
  "kernelspec": {
   "display_name": "Python 3",
   "language": "python",
   "name": "python3"
  },
  "language_info": {
   "codemirror_mode": {
    "name": "ipython",
    "version": 3
   },
   "file_extension": ".py",
   "mimetype": "text/x-python",
   "name": "python",
   "nbconvert_exporter": "python",
   "pygments_lexer": "ipython3",
   "version": "3.8.3"
  }
 },
 "nbformat": 4,
 "nbformat_minor": 4
}
