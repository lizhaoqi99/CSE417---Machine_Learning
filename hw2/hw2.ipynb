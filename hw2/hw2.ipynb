{
 "cells": [
  {
   "cell_type": "code",
   "execution_count": 6,
   "metadata": {},
   "outputs": [
    {
     "name": "stdout",
     "output_type": "stream",
     "text": [
      "(-0.005458537477836473, -0.0010813521522491478)\n",
      "(0.011517501788174582, 0.0017808512668100918)\n",
      "(-0.003903994517072489, -0.0017200790813735477)\n",
      "(0.011418771684682404, -0.002215989587568319)\n",
      "(0.005277727337605719, 0.0016646608379430052)\n",
      "(-0.0005833269174102204, -0.0011329966801853471)\n",
      "(-0.0006744885925283524, -0.0003166364016479431)\n",
      "(-0.0011032462135423709, -0.0011617221112371352)\n",
      "(0.0005740418103781149, -0.002060461618774878)\n",
      "(0.0007801423773846574, -0.0016734993993546615)\n"
     ]
    },
    {
     "data": {
      "image/png": "[encoded data removed]",
      "text/plain": [
       "<Figure size 432x288 with 1 Axes>"
      ]
     },
     "metadata": {
      "needs_background": "light"
     },
     "output_type": "display_data"
    }
   ],
   "source": [
    "import numpy as np\n",
    "import matplotlib.pyplot as plt\n",
    "from scipy import integrate\n",
    "plt.rcParams['font.sans-serif']=['SimHei'] #用来正常显示中文标签\n",
    "plt.rcParams['axes.unicode_minus']=False #用来正常显示负号\n",
    "def f(x):\n",
    "    return x ** 2\n",
    "\n",
    "#模拟求出系数\n",
    "def simulation(n):\n",
    "    a = 0\n",
    "    b = 0\n",
    "    #模拟n次\n",
    "    for i in range(n):\n",
    "        #产生-1,1之间均匀分布随机数\n",
    "        x1 = np.random.uniform(-1, 1)\n",
    "        x2 = np.random.uniform(-1, 1)\n",
    "        a1 = (x1 + x2)\n",
    "        b1 = - x1 * x2\n",
    "        a += a1\n",
    "        b += b1\n",
    "    return a / n, b / n\n",
    "\n",
    "    #比较下10000次以上的结果\n",
    "n = range(10 ** 4, 10 ** 5+1, 10 ** 4)\n",
    "result =[]\n",
    "for i in n:\n",
    "    temp = simulation(i)\n",
    "    print(temp)\n",
    "    result.append(temp)\n",
    "    \n",
    "#选择第一组数据并作图\n",
    "a, b = result[0]\n",
    "x1 = np.arange(-1, 1.1, 0.1)\n",
    "y1 = [f(i) for i in x1]\n",
    "x2 = np.array([-1, 1])\n",
    "y2 = a * x2 + b\n",
    "\n",
    "plt.plot(x1,y1)\n",
    "plt.plot(x2,y2)\n",
    "plt.legend(['f(x)','g_bar(x)'])\n",
    "plt.show()"
   ]
  },
  {
   "cell_type": "code",
   "execution_count": 3,
   "metadata": {},
   "outputs": [
    {
     "name": "stdout",
     "output_type": "stream",
     "text": [
      "(0.5333333333333333, 8.785771717918444e-15)\n",
      "(0.20340463787213914, 2.2582451228119097e-15)\n",
      "(0.33337370288538704, 6.393304785214921e-15)\n"
     ]
    }
   ],
   "source": [
    "\n",
    "\n",
    "#计算积分\n",
    "#定义误差函数\n",
    "def s1(x, x1, x2):\n",
    "    a = (x1 + x2)\n",
    "    b = - x1 * x2\n",
    "    y = f(x)\n",
    "    y1 = a * x + b\n",
    "    return 1 / 8 * (y - y1) ** 2\n",
    "print(integrate.tplquad(s1, -1, 1, lambda x: -1, lambda x: 1,lambda x, y: -1, lambda x, y:\n",
    "1))\n",
    "\n",
    "#bias\n",
    "def bias(x):\n",
    "    y1 = a * x + b\n",
    "    y2 = f(x)\n",
    "    return (y1 - y2) ** 2 / 2\n",
    "print(integrate.quad(bias, -1, 1))\n",
    "\n",
    "#var\n",
    "def var(x, x1, x2):\n",
    "    yavg = a * x + b\n",
    "    a1 = (x1 + x2)\n",
    "    b1 = -x1 * x2\n",
    "    yrea = a1 * x + b1\n",
    "    return 1 / 8 * (yavg - yrea) ** 2\n",
    "print(integrate.tplquad(var, -1, 1, lambda x: -1, lambda x: 1,lambda x, y: -1, lambda x, y:\n",
    "1))\n"
   ]
  },
  {
   "cell_type": "code",
   "execution_count": null,
   "metadata": {},
   "outputs": [],
   "source": []
  }
 ],
 "metadata": {
  "kernelspec": {
   "display_name": "Python 3",
   "language": "python",
   "name": "python3"
  },
  "language_info": {
   "codemirror_mode": {
    "name": "ipython",
    "version": 3
   },
   "file_extension": ".py",
   "mimetype": "text/x-python",
   "name": "python",
   "nbconvert_exporter": "python",
   "pygments_lexer": "ipython3",
   "version": "3.8.2"
  }
 },
 "nbformat": 4,
 "nbformat_minor": 4
}
