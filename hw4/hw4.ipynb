{
 "cells": [
  {
   "cell_type": "code",
   "execution_count": 42,
   "metadata": {},
   "outputs": [],
   "source": [
    "# problem 1\n"
   ]
  },
  {
   "cell_type": "code",
   "execution_count": 43,
   "metadata": {},
   "outputs": [],
   "source": [
    "import numpy as np\n",
    "import matplotlib.pyplot as plt"
   ]
  },
  {
   "cell_type": "code",
   "execution_count": 44,
   "metadata": {},
   "outputs": [
    {
     "data": {
      "image/png": "[encoded data removed]",
      "text/plain": [
       "<Figure size 432x288 with 1 Axes>"
      ]
     },
     "metadata": {
      "needs_background": "light"
     },
     "output_type": "display_data"
    }
   ],
   "source": [
    "# part a \n",
    "def generateData(n=3):\n",
    "    x1_upper = np.random.uniform(-1,1,n)\n",
    "    x2_upper = np.random.uniform(0,1,n)\n",
    "    x1_lower = np.random.uniform(-1,1,n)\n",
    "    x2_lower = np.random.uniform(-1,0,n)\n",
    "    return x1_upper, x2_upper, x1_lower, x2_lower\n",
    "\n",
    "x1_upper, x2_upper, x1_lower, x2_lower = generateData()\n",
    "plt.scatter(x1_upper, x2_upper)\n",
    "plt.scatter(x1_lower, x2_lower)\n",
    "plt.show()"
   ]
  },
  {
   "cell_type": "code",
   "execution_count": 45,
   "metadata": {},
   "outputs": [
    {
     "name": "stdout",
     "output_type": "stream",
     "text": [
      "a_svm = 0.029690186487694004\n",
      "a_random = -0.34321582204112455\n"
     ]
    },
    {
     "data": {
      "image/png": "[encoded data removed]",
      "text/plain": [
       "<Figure size 432x288 with 1 Axes>"
      ]
     },
     "metadata": {
      "needs_background": "light"
     },
     "output_type": "display_data"
    }
   ],
   "source": [
    "def compute_a_svm(x2_upper, x2_lower):\n",
    "    return (np.min(x2_upper)+np.max(x2_lower))/2\n",
    "\n",
    "a_svm = compute_a_svm(x2_upper, x2_lower)\n",
    "a_random = np.random.uniform(-1, 1)\n",
    "print(\"a_svm =\", a_svm)\n",
    "print(\"a_random =\", a_random)\n",
    "\n",
    "plt.scatter(x1_upper, x2_upper, label = \"+\")\n",
    "plt.scatter(x1_lower, x2_lower, label = \"-\")\n",
    "x = np.linspace(-1, 1)\n",
    "plt.plot([-1, 1], [a_svm, a_svm], label = \"svm fit\")\n",
    "plt.plot([-1, 1], [a_random, a_random], label = \"random fit\")\n",
    "plt.legend()\n",
    "plt.show()"
   ]
  },
  {
   "cell_type": "code",
   "execution_count": 46,
   "metadata": {},
   "outputs": [
    {
     "data": {
      "image/png": "[encoded data removed]",
      "text/plain": [
       "<Figure size 432x288 with 1 Axes>"
      ]
     },
     "metadata": {
      "needs_background": "light"
     },
     "output_type": "display_data"
    }
   ],
   "source": [
    "# part b\n",
    "A2sv_svm = []\n",
    "A2_random = []\n",
    "for i in range(1000000):\n",
    "    # repeat part a\n",
    "    x1_upper2, x2_upper2, x1_lower2, x2_lower2 = generateData()\n",
    "    a2_svm = compute_a_svm(x2_upper2, x2_lower2)\n",
    "    a2_random = np.random.uniform(-1, 1)\n",
    "    A2_svm.append(a2_svm)\n",
    "    A2_random.append(a2_random)\n",
    "\n",
    "plt.hist(A2_random, label = \"random fit\")    \n",
    "plt.hist(A2_svm, label = \"svm fit\")\n",
    "plt.legend()\n",
    "plt.show()"
   ]
  },
  {
   "cell_type": "markdown",
   "metadata": {},
   "source": [
    "Recall the definition of bias and variance:\n",
    "$$ bias = E_x[bias(x_i)] = \\frac{1}{N}\\sum_{i=1}^{N}bias(x_i) = \\frac{1}{N}\\sum_{i=1}^{N}(\\bar{g}(x_i) - f(x_i))^2$$\n",
    "\n",
    "$$ var = E_x[var(x_i)] = \\frac{1}{N}\\sum_{i=1}^{N}var(x_i) = \\frac{1}{N}\\sum_{i=1}^{N}E_D[(g^{(D)}(x) - \\bar{g}(x))^2] = \\frac{1}{N}\\frac{1}{K}\\sum_{i=1}^{N}(g^{(D)}(x) - \\bar{g}(x))^2$$"
   ]
  },
  {
   "cell_type": "code",
   "execution_count": 47,
   "metadata": {},
   "outputs": [
    {
     "name": "stdout",
     "output_type": "stream",
     "text": [
      "bias_svm = 2e-05\n",
      "bias_random = 0.00064\n"
     ]
    }
   ],
   "source": [
    "# part c\n",
    "\n",
    "# compute bias\n",
    "A_svm = np.array(A2_svm)\n",
    "A_random = np.array(A2_random)\n",
    "a_svm_mean = np.mean(A2_svm)\n",
    "a_random_mean = np.mean(A2_random)\n",
    "\n",
    "# the target function y = f(x1, x2) = sign(x2)\n",
    "x2 = np.random.uniform(-1,1,1000000)\n",
    "f = np.sign(x2)\n",
    "\n",
    "g_bar_svm = np.sign(x2 - a_svm_mean)\n",
    "g_bar_random = np.sign(x2 - a_random_mean)\n",
    "\n",
    "bias_svm = np.mean((f-g_bar_svm)**2)\n",
    "bias_random = np.mean((f-g_bar_random)**2)\n",
    "print(\"bias_svm =\", bias_svm)\n",
    "print(\"bias_random =\", bias_random)"
   ]
  },
  {
   "cell_type": "code",
   "execution_count": 48,
   "metadata": {},
   "outputs": [
    {
     "name": "stdout",
     "output_type": "stream",
     "text": [
      "var_svm = 0.05943716\n",
      "var_random = 1.00756708\n"
     ]
    }
   ],
   "source": [
    "# compute variance\n",
    "var_svm = []\n",
    "var_random = []\n",
    "\n",
    "# repeat the trial K=10000 times\n",
    "for i in range(10000):\n",
    "    x1_upper2, x2_upper2, x1_lower2, x2_lower2 = generateData()\n",
    "    a_svm = compute_a_svm(x2_upper, x2_lower)\n",
    "    a_random = np.random.uniform(-1, 1)\n",
    "    # let N = 10000\n",
    "    x2 = np.random.uniform(-1,1,10000)\n",
    "    # compute g_bar\n",
    "    g_bar_svm = np.sign(x2 - a_svm_mean)\n",
    "    g_bar_random = np.sign(x2 - a_random_mean)\n",
    "    # compute g_D\n",
    "    g_svm = np.sign(x2 - a_svm)\n",
    "    g_random = np.sign(x2- a_random)\n",
    "    # compute \n",
    "    var_svm.append(np.mean((g_svm - g_bar_svm)**2))\n",
    "    var_random.append(np.mean((g_random - g_bar_random)**2))\n",
    "    \n",
    "print(\"var_svm =\", np.mean(var_svm))\n",
    "print(\"var_random =\", np.mean(var_random))"
   ]
  },
  {
   "cell_type": "code",
   "execution_count": null,
   "metadata": {},
   "outputs": [],
   "source": []
  }
 ],
 "metadata": {
  "kernelspec": {
   "display_name": "Python 3",
   "language": "python",
   "name": "python3"
  },
  "language_info": {
   "codemirror_mode": {
    "name": "ipython",
    "version": 3
   },
   "file_extension": ".py",
   "mimetype": "text/x-python",
   "name": "python",
   "nbconvert_exporter": "python",
   "pygments_lexer": "ipython3",
   "version": "3.8.2"
  }
 },
 "nbformat": 4,
 "nbformat_minor": 4
}
